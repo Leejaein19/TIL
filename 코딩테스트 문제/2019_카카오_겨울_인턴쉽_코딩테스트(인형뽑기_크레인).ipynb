{
 "cells": [
  {
   "cell_type": "markdown",
   "id": "8cb76801",
   "metadata": {},
   "source": [
    "# <크레인 인형뽑기>\n",
    "\n",
    "## 매개변수\n",
    "- board :  인형이 들어있는 정사각 행렬 (인형별로 1이상의 숫자가 들어있고, 인형이 없으면 0이 들어가 있다)\n",
    "- moves : 크레인을 움직일 열 번호를 순서대로 넣은 1차원 행렬\n",
    "\n",
    "## 진행과정\n",
    "- moves 행렬을 통해 선택된 열을 순차적으로 이동했을 때 뽑히는 인형을 basket 행렬에 담는다\n",
    "- 이때 선택된 열에 인형이 없다면 다음 회차로 이동한다.\n",
    "- 같은 인형이 연속으로 뽑히면 이전에 뽑힌 인형과 새로 들어온 인형이 터지면서 둘다 사라진다.\n",
    "\n",
    "## 결과\n",
    "moves를 진행했을때 터지는 인형의 수를 구한다."
   ]
  },
  {
   "cell_type": "code",
   "execution_count": 1,
   "id": "8328cf01",
   "metadata": {},
   "outputs": [],
   "source": [
    "def solution(board, moves):\n",
    "    basket = []                             # 크레인으로 뽑은 인형을 담을 행렬\n",
    "    count = 0                               # 인형이 터진 횟수를 셀 변수\n",
    "    \n",
    "    # move 리스트를 순차적으로 진행\n",
    "    for i, val in enumerate(moves):\n",
    "        temp = 0 # 행에 들어갈 변수\n",
    "        pick = 0 # 크레인이 잡은 인형의 번호를 담을 변수\n",
    "        \n",
    "        # 행을 0부터 순차적으로 검색\n",
    "        while True:\n",
    "            if board[temp][val-1] != 0:     # 지정된 자리에 인형이 있는 경우\n",
    "                pick = board[temp][val-1]   # pick 변수에 인형의 번호를 담는다\n",
    "                board[temp][val-1] = 0      # 지정된 자리에 인형을 뺀다 (0으로 변경)\n",
    "                break                       # 반복 종료\n",
    "            else :                          # 지정된 자리에 인형이 없는 경우\n",
    "                temp += 1                   # 행 인덱스를 1추가\n",
    "            if temp == len(board[0]):       # 행 인덱스가 행 전체 크기와 같을 때\n",
    "                break                       # 반복종료\n",
    "                                            # 위에 if문에 해당하지 않으면 while문 반복\n",
    "\n",
    "        if pick == 0:                       # 선택된 인형이 아무도 없으면\n",
    "            continue                        # 반복 종료 후 for문 처음부터 다시 실행\n",
    "        print(\"뽑기 {}회차 선택인형: {}\".format(i+1, pick)) # 뽑은 인형 확인용 출력문\n",
    "        \n",
    "        if basket == []:                    # basket 리스트가 비어있다면\n",
    "            basket.append(pick)             # 선택된 인형을 리스트에 바로 넣는다\n",
    "        else:                               # basket 리스트에 무언가 들어있다면\n",
    "            if basket[-1] == pick:          # basket 리스트 마지막 원소와 선택된 인형이 같다면\n",
    "                basket.remove(basket[-1])   # 마지막 원소를 삭제\n",
    "                count += 1                  # 인형이 터진 횟수 증가\n",
    "            else:                           # basket 리스트 마지막 원소와 선택된 인형이 다르면\n",
    "                basket.append(pick)         # 선택된 인형을 리스트에 넣는다\n",
    "        print(\"뽑기 {}회차 저장인형: {}\".format(i+1,basket)) \n",
    "                                            # 리스트 확인용 출력문\n",
    "    answer = count                          \n",
    "    return answer*2                         # 인형이 터진 갯수 = 터진 횟수 * 2"
   ]
  },
  {
   "cell_type": "code",
   "execution_count": 2,
   "id": "3190c854",
   "metadata": {},
   "outputs": [
    {
     "name": "stdout",
     "output_type": "stream",
     "text": [
      "뽑기 1회차 선택인형: 4\n",
      "뽑기 1회차 저장인형: [4]\n",
      "뽑기 2회차 선택인형: 3\n",
      "뽑기 2회차 저장인형: [4, 3]\n",
      "뽑기 3회차 선택인형: 1\n",
      "뽑기 3회차 저장인형: [4, 3, 1]\n",
      "뽑기 4회차 선택인형: 1\n",
      "뽑기 4회차 저장인형: [4, 3]\n",
      "뽑기 5회차 선택인형: 3\n",
      "뽑기 5회차 저장인형: [4]\n",
      "뽑기 6회차 선택인형: 2\n",
      "뽑기 6회차 저장인형: [4, 2]\n",
      "뽑기 8회차 선택인형: 4\n",
      "뽑기 8회차 저장인형: [4, 2, 4]\n"
     ]
    },
    {
     "data": {
      "text/plain": [
       "4"
      ]
     },
     "execution_count": 2,
     "metadata": {},
     "output_type": "execute_result"
    }
   ],
   "source": [
    "# 테스트 1, 5*5 행렬에서 8회 시도\n",
    "solution([[0,0,0,0,0],[0,0,1,0,3],[0,2,5,0,1],[4,2,4,4,2],[3,5,1,3,1]],\n",
    "        [1,5,3,5,1,2,1,4])"
   ]
  },
  {
   "cell_type": "code",
   "execution_count": 3,
   "id": "025dd3fd",
   "metadata": {},
   "outputs": [
    {
     "name": "stdout",
     "output_type": "stream",
     "text": [
      "뽑기 1회차 선택인형: 3\n",
      "뽑기 1회차 저장인형: [3]\n",
      "뽑기 2회차 선택인형: 2\n",
      "뽑기 2회차 저장인형: [3, 2]\n",
      "뽑기 3회차 선택인형: 2\n",
      "뽑기 3회차 저장인형: [3]\n"
     ]
    },
    {
     "data": {
      "text/plain": [
       "2"
      ]
     },
     "execution_count": 3,
     "metadata": {},
     "output_type": "execute_result"
    }
   ],
   "source": [
    "# 테스트 2, 3,3 행렬에서 5회 시도\n",
    "solution([[1, 2, 3], [2, 1, 2], [5, 2, 2]], [3, 3, 3, 3, 3])"
   ]
  },
  {
   "cell_type": "code",
   "execution_count": 4,
   "id": "732b3d1c",
   "metadata": {},
   "outputs": [
    {
     "name": "stdout",
     "output_type": "stream",
     "text": [
      "뽑기 1회차 선택인형: 1\n",
      "뽑기 1회차 저장인형: [1]\n"
     ]
    },
    {
     "data": {
      "text/plain": [
       "0"
      ]
     },
     "execution_count": 4,
     "metadata": {},
     "output_type": "execute_result"
    }
   ],
   "source": [
    "# 테스트 3, 1*1 행렬에서 5회 시도\n",
    "solution([[1]], [1, 1, 1, 1, 1])"
   ]
  },
  {
   "cell_type": "code",
   "execution_count": 5,
   "id": "cad0c6c1",
   "metadata": {},
   "outputs": [
    {
     "name": "stdout",
     "output_type": "stream",
     "text": [
      "뽑기 1회차 선택인형: 2\n",
      "뽑기 1회차 저장인형: [2]\n",
      "뽑기 2회차 선택인형: 2\n",
      "뽑기 2회차 저장인형: []\n",
      "뽑기 3회차 선택인형: 5\n",
      "뽑기 3회차 저장인형: [5]\n",
      "뽑기 4회차 선택인형: 3\n",
      "뽑기 4회차 저장인형: [5, 3]\n",
      "뽑기 5회차 선택인형: 1\n",
      "뽑기 5회차 저장인형: [5, 3, 1]\n",
      "뽑기 7회차 선택인형: 1\n",
      "뽑기 7회차 저장인형: [5, 3]\n",
      "뽑기 10회차 선택인형: 3\n",
      "뽑기 10회차 저장인형: [5]\n"
     ]
    },
    {
     "data": {
      "text/plain": [
       "6"
      ]
     },
     "execution_count": 5,
     "metadata": {},
     "output_type": "execute_result"
    }
   ],
   "source": [
    "# 테스트 4, 7*7 행렬에서 10회 시도\n",
    "solution([[0,0,0,0,0,0,0],[0,0,0,0,2,3,1],[0,0,5,2,4,1,3],[0,0,3,3,2,4,1],\n",
    "          [0,0,1,2,3,4,5],[0,2,3,4,5,4,3],[0,2,1,4,1,2,2]], [2,2,3,3,3,1,7,2,1,6])"
   ]
  },
  {
   "cell_type": "code",
   "execution_count": 6,
   "id": "2bbf83b7",
   "metadata": {},
   "outputs": [
    {
     "data": {
      "text/plain": [
       "0"
      ]
     },
     "execution_count": 6,
     "metadata": {},
     "output_type": "execute_result"
    }
   ],
   "source": [
    "# 테스트 5, 3*3 행렬에서 0회 시도\n",
    "solution([[0,0,0],[2,3,1],[4,1,3]], [])"
   ]
  },
  {
   "cell_type": "markdown",
   "id": "f6fc2abe",
   "metadata": {},
   "source": [
    "5번의 테스트의 결과 모두 이상이 없다.\n",
    "\n",
    "그런데 왜... 프로그래머스에서는 오류가 나는걸까... ㅠㅠ  \n",
    "도저히 이유를 모르겠네;;;"
   ]
  },
  {
   "cell_type": "code",
   "execution_count": null,
   "id": "c4649bd4",
   "metadata": {},
   "outputs": [],
   "source": []
  },
  {
   "cell_type": "code",
   "execution_count": null,
   "id": "f1afd96b",
   "metadata": {},
   "outputs": [],
   "source": []
  }
 ],
 "metadata": {
  "kernelspec": {
   "display_name": "Python 3",
   "language": "python",
   "name": "python3"
  },
  "language_info": {
   "codemirror_mode": {
    "name": "ipython",
    "version": 3
   },
   "file_extension": ".py",
   "mimetype": "text/x-python",
   "name": "python",
   "nbconvert_exporter": "python",
   "pygments_lexer": "ipython3",
   "version": "3.8.8"
  },
  "toc": {
   "base_numbering": 1,
   "nav_menu": {},
   "number_sections": true,
   "sideBar": true,
   "skip_h1_title": false,
   "title_cell": "Table of Contents",
   "title_sidebar": "Contents",
   "toc_cell": false,
   "toc_position": {},
   "toc_section_display": true,
   "toc_window_display": true
  }
 },
 "nbformat": 4,
 "nbformat_minor": 5
}
