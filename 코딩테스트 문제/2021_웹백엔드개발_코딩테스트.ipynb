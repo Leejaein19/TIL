{
 "cells": [
  {
   "cell_type": "markdown",
   "id": "0e5a32f4",
   "metadata": {},
   "source": [
    "# <로또 등수 예상하기>\n",
    "  \n",
    "## 매개변수\n",
    "* lottos : 확인 할 로또 번호 (모르는 번호는 0으로 입력, 복수 입력 가능)\n",
    "* win_nums : 당첨 번호\n",
    "\n",
    "## 진행과정\n",
    "- 당첨번호와 확인할 번호를 비교하여 맞는 경우는 check 변수에 1씩 증가한다.\n",
    "- 모르는 번호(0)가 나오면 zero_num 변수를 1씩 증가한다.\n",
    "- 등수 = 7 - 맞은 횟수로 계산이 가능하다.\n",
    "- 단, 모두 틀리는 경우는 1개가 맞는 경우와 같은 6등이므로 이 부분은 다시 조작한다.\n",
    "\n",
    "## 결과값\n",
    "모르는 번호를 포함하여 받을 수 있는 최고의 등수와 최저의 등수를 출력"
   ]
  },
  {
   "cell_type": "code",
   "execution_count": 27,
   "id": "0310d646",
   "metadata": {},
   "outputs": [],
   "source": [
    "def solution(lottos, win_nums):\n",
    "    check = 0                                       # 번호가 맞는 경우를 카운트 할 변수\n",
    "    zero_num = 0                                    # 모르는 번호(0)를 카운트 할 변수\n",
    "    for i,i_val in enumerate(lottos):               # 확인할 로또 번호 수(6) 만큼 반복\n",
    "        # 확인할 번호가 0인 경우\n",
    "        if i_val == 0:\n",
    "            zero_num += 1                           # zero_num을 1증가\n",
    "            continue                                # 아래 문구는 무시하고 반복\n",
    "        \n",
    "        # 0이 아닌 경우\n",
    "        for j,j_val in enumerate(win_nums):         # 로또 번호 수(6) 만큼 반복\n",
    "            if i_val == j_val:                      # 확인할 번호와 로또 번호가 같으면\n",
    "                check += 1                          # 맞은 횟수 1 증가\n",
    "                print(\"맞은 번호:{}\".format(i_val))  \n",
    "    \n",
    "    print(check, zero_num)                          \n",
    "    # 등수 = 7 - 맞은 횟수로 계산이 가능 (예를 들어 4개를 맞으면 7-4 = 3위)\n",
    "    rank_top = 7 - (check + zero_num)               # 0의 개수만큼 더 맞은 경우는 최대 등수\n",
    "    rank_bot = 7 - check                            # 0의 개수만큼 다 틀린 경우는 최소 등수\n",
    "    \n",
    "    # check값이 0일 경우는 7위가 나오므로 6위로 변경해준다.\n",
    "    if rank_top == 7:\n",
    "        rank_top = 6 \n",
    "    if rank_bot == 7:\n",
    "        rank_bot = 6 \n",
    "    \n",
    "    answer = [rank_top, rank_bot]                   # 최대 등수와 최소 등수를 리스트로 넣고 \n",
    "    return answer                                   # 반환"
   ]
  },
  {
   "cell_type": "code",
   "execution_count": 26,
   "id": "5f9ddb7b",
   "metadata": {},
   "outputs": [
    {
     "name": "stdout",
     "output_type": "stream",
     "text": [
      "맞은 번호:1\n",
      "맞은 번호:31\n",
      "2 2\n"
     ]
    },
    {
     "data": {
      "text/plain": [
       "[3, 5]"
      ]
     },
     "execution_count": 26,
     "metadata": {},
     "output_type": "execute_result"
    }
   ],
   "source": [
    "solution([44, 1, 0, 0, 31, 25], [31, 10, 45, 1, 6, 19])"
   ]
  },
  {
   "cell_type": "code",
   "execution_count": 23,
   "id": "4d16a95f",
   "metadata": {},
   "outputs": [
    {
     "name": "stdout",
     "output_type": "stream",
     "text": [
      "0 6\n"
     ]
    },
    {
     "data": {
      "text/plain": [
       "[1, 6]"
      ]
     },
     "execution_count": 23,
     "metadata": {},
     "output_type": "execute_result"
    }
   ],
   "source": [
    "solution([0, 0, 0, 0, 0, 0], [31, 10, 45, 1, 6, 19])"
   ]
  },
  {
   "cell_type": "code",
   "execution_count": 24,
   "id": "b8b8e8af",
   "metadata": {},
   "outputs": [
    {
     "name": "stdout",
     "output_type": "stream",
     "text": [
      "0 0\n"
     ]
    },
    {
     "data": {
      "text/plain": [
       "[6, 6]"
      ]
     },
     "execution_count": 24,
     "metadata": {},
     "output_type": "execute_result"
    }
   ],
   "source": [
    "solution([1, 2, 3, 4, 5, 6], [31, 10, 45, 7, 34, 19])"
   ]
  },
  {
   "cell_type": "markdown",
   "id": "3ae0c52e",
   "metadata": {},
   "source": [
    "## 문제 없이 테스트 통과!"
   ]
  },
  {
   "cell_type": "code",
   "execution_count": null,
   "id": "30e4e0ce",
   "metadata": {},
   "outputs": [],
   "source": []
  }
 ],
 "metadata": {
  "kernelspec": {
   "display_name": "Python 3",
   "language": "python",
   "name": "python3"
  },
  "language_info": {
   "codemirror_mode": {
    "name": "ipython",
    "version": 3
   },
   "file_extension": ".py",
   "mimetype": "text/x-python",
   "name": "python",
   "nbconvert_exporter": "python",
   "pygments_lexer": "ipython3",
   "version": "3.8.8"
  },
  "toc": {
   "base_numbering": 1,
   "nav_menu": {},
   "number_sections": true,
   "sideBar": true,
   "skip_h1_title": false,
   "title_cell": "Table of Contents",
   "title_sidebar": "Contents",
   "toc_cell": false,
   "toc_position": {},
   "toc_section_display": true,
   "toc_window_display": false
  }
 },
 "nbformat": 4,
 "nbformat_minor": 5
}
