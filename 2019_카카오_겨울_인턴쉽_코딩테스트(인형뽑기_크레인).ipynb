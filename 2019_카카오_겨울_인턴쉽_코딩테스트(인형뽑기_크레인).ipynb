{
 "cells": [
  {
   "cell_type": "code",
   "execution_count": 1,
   "id": "6999097c",
   "metadata": {},
   "outputs": [],
   "source": [
    "def solution(board, moves):\n",
    "    basket = []\n",
    "    count = 0\n",
    "    for i, val in enumerate(moves):\n",
    "        temp = 0\n",
    "        pick = 0\n",
    "        while True:\n",
    "            if board[temp][val-1] != 0:\n",
    "                pick = board[temp][val-1]\n",
    "                board[temp][val-1] = 0\n",
    "                break\n",
    "            else :\n",
    "                temp += 1\n",
    "            if temp == len(board[0]):\n",
    "                break\n",
    "        print(\"뽑기 {}회차 선택인형: {}\".format(i+1, pick))\n",
    "        if pick == 0:\n",
    "            continue\n",
    "            \n",
    "        if basket == []:\n",
    "            basket.append(pick)\n",
    "            print(\"뽑기 {}회차 저장인형: {}\".format(i+1,basket))\n",
    "        else:            \n",
    "            if basket[-1] == pick:\n",
    "                basket.remove(basket[-1])\n",
    "                count += 1\n",
    "                print(\"뽑기 {}회차 저장인형: {}\".format(i+1,basket))\n",
    "            else:\n",
    "                basket.append(pick)\n",
    "                print(\"뽑기 {}회차 저장인형: {}\".format(i+1,basket))\n",
    "        \n",
    "\n",
    "    answer = count\n",
    "    return answer*2"
   ]
  },
  {
   "cell_type": "code",
   "execution_count": 2,
   "id": "d05ffe83",
   "metadata": {},
   "outputs": [
    {
     "name": "stdout",
     "output_type": "stream",
     "text": [
      "뽑기 1회차 선택인형: 4\n",
      "뽑기 1회차 저장인형: [4]\n",
      "뽑기 2회차 선택인형: 3\n",
      "뽑기 2회차 저장인형: [4, 3]\n",
      "뽑기 3회차 선택인형: 1\n",
      "뽑기 3회차 저장인형: [4, 3, 1]\n",
      "뽑기 4회차 선택인형: 1\n",
      "뽑기 4회차 저장인형: [4, 3]\n",
      "뽑기 5회차 선택인형: 3\n",
      "뽑기 5회차 저장인형: [4]\n",
      "뽑기 6회차 선택인형: 2\n",
      "뽑기 6회차 저장인형: [4, 2]\n",
      "뽑기 7회차 선택인형: 0\n",
      "뽑기 8회차 선택인형: 4\n",
      "뽑기 8회차 저장인형: [4, 2, 4]\n"
     ]
    },
    {
     "data": {
      "text/plain": [
       "4"
      ]
     },
     "execution_count": 2,
     "metadata": {},
     "output_type": "execute_result"
    }
   ],
   "source": [
    "solution([[0,0,0,0,0],[0,0,1,0,3],[0,2,5,0,1],[4,2,4,4,2],[3,5,1,3,1]],\n",
    "        [1,5,3,5,1,2,1,4])"
   ]
  },
  {
   "cell_type": "code",
   "execution_count": 3,
   "id": "78a616e9",
   "metadata": {},
   "outputs": [
    {
     "name": "stdout",
     "output_type": "stream",
     "text": [
      "뽑기 1회차 선택인형: 3\n",
      "뽑기 1회차 저장인형: [3]\n",
      "뽑기 2회차 선택인형: 2\n",
      "뽑기 2회차 저장인형: [3, 2]\n",
      "뽑기 3회차 선택인형: 2\n",
      "뽑기 3회차 저장인형: [3]\n",
      "뽑기 4회차 선택인형: 0\n",
      "뽑기 5회차 선택인형: 0\n"
     ]
    },
    {
     "data": {
      "text/plain": [
       "2"
      ]
     },
     "execution_count": 3,
     "metadata": {},
     "output_type": "execute_result"
    }
   ],
   "source": [
    "solution([[1, 2, 3], [2, 1, 2], [5, 2, 2]], [3, 3, 3, 3, 3])"
   ]
  },
  {
   "cell_type": "code",
   "execution_count": null,
   "id": "3209bf59",
   "metadata": {},
   "outputs": [],
   "source": []
  }
 ],
 "metadata": {
  "kernelspec": {
   "display_name": "Python 3",
   "language": "python",
   "name": "python3"
  },
  "language_info": {
   "codemirror_mode": {
    "name": "ipython",
    "version": 3
   },
   "file_extension": ".py",
   "mimetype": "text/x-python",
   "name": "python",
   "nbconvert_exporter": "python",
   "pygments_lexer": "ipython3",
   "version": "3.8.8"
  },
  "toc": {
   "base_numbering": 1,
   "nav_menu": {},
   "number_sections": true,
   "sideBar": true,
   "skip_h1_title": false,
   "title_cell": "Table of Contents",
   "title_sidebar": "Contents",
   "toc_cell": false,
   "toc_position": {},
   "toc_section_display": true,
   "toc_window_display": false
  }
 },
 "nbformat": 4,
 "nbformat_minor": 5
}
