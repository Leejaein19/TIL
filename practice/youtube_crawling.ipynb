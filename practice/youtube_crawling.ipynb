{
 "cells": [
  {
   "cell_type": "markdown",
   "id": "d3e8748e",
   "metadata": {},
   "source": [
    "# 유튜브 댓글 수집\n",
    "출처: https://untitledtblog.tistory.com/169  "
   ]
  },
  {
   "cell_type": "code",
   "execution_count": 1,
   "id": "8b3c8e74",
   "metadata": {},
   "outputs": [],
   "source": [
    "import pandas as pd\n",
    "from googleapiclient.discovery import build"
   ]
  },
  {
   "cell_type": "code",
   "execution_count": 13,
   "id": "435c6043",
   "metadata": {},
   "outputs": [],
   "source": [
    "comments = list()\n",
    "api_key = # 본인의 API 키 입력\n",
    "video_id = # 유튜브 동영상 id (주소창에 = 이후 문자)\n",
    "api_obj = build('youtube', 'v3', developerKey=api_key)\n",
    "response = api_obj.commentThreads().list(part='snippet,replies', videoId=video_id, maxResults=100).execute()\n"
   ]
  },
  {
   "cell_type": "code",
   "execution_count": 16,
   "id": "3a225250",
   "metadata": {},
   "outputs": [],
   "source": [
    "while response:\n",
    "    for item in response['items']:\n",
    "        comment = item['snippet']['topLevelComment']['snippet']\n",
    "        comments.append([comment['textDisplay'], comment['authorDisplayName'], comment['publishedAt'], comment['likeCount']])\n",
    " \n",
    "        if item['snippet']['totalReplyCount'] > 0:\n",
    "            for reply_item in item['replies']['comments']:\n",
    "                reply = reply_item['snippet']\n",
    "                comments.append([reply['textDisplay'], reply['authorDisplayName'], reply['publishedAt'], reply['likeCount']])\n",
    " \n",
    "    if 'nextPageToken' in response:\n",
    "        response = api_obj.commentThreads().list(part='snippet,replies', videoId=video_id, pageToken=response['nextPageToken'], maxResults=100).execute()\n",
    "    else:\n",
    "        break\n",
    "\n",
    "df = pd.DataFrame(comments)\n",
    "# 엑셀(또는 csv로) 저장\n",
    "df.to_excel('results.xlsx', header=['comment', 'author', 'date', 'num_likes'], index=None)"
   ]
  },
  {
   "cell_type": "code",
   "execution_count": null,
   "id": "5b5021b8",
   "metadata": {},
   "outputs": [],
   "source": []
  }
 ],
 "metadata": {
  "kernelspec": {
   "display_name": "Python 3",
   "language": "python",
   "name": "python3"
  },
  "language_info": {
   "codemirror_mode": {
    "name": "ipython",
    "version": 3
   },
   "file_extension": ".py",
   "mimetype": "text/x-python",
   "name": "python",
   "nbconvert_exporter": "python",
   "pygments_lexer": "ipython3",
   "version": "3.8.8"
  },
  "toc": {
   "base_numbering": 1,
   "nav_menu": {},
   "number_sections": false,
   "sideBar": true,
   "skip_h1_title": false,
   "title_cell": "Table of Contents",
   "title_sidebar": "Contents",
   "toc_cell": false,
   "toc_position": {},
   "toc_section_display": true,
   "toc_window_display": false
  }
 },
 "nbformat": 4,
 "nbformat_minor": 5
}
