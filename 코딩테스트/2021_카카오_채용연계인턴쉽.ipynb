{
 "cells": [
  {
   "cell_type": "markdown",
   "id": "d5fe9ce3",
   "metadata": {},
   "source": [
    "# <거리두기 잘 지키고 있는가?>\n",
    "  \n",
    "## 매개변수\n",
    "* places : 5*5행렬 안에 사람이 있는 공간은 \"P\", 파티션은 \"X\", 빈공간은 \"O\"로 표기\n",
    "* 5*5행렬이 다수로 places 안에 들어가서 한번에 확인이 가능하다. 이 개수는 cnt라는 변수로 제어한다.\n",
    "    \n",
    "## 진행과정\n",
    "- 5*5행렬의 개수만큼 cnt로 제어하여 while문을 반복한다.\n",
    "- 사람이 있는 공간(P)을 position이라는 행렬에 정보를 넣는다. \n",
    "- position행렬에 모든 원소를 서로 비교하여 맨하탄거리를 구하고, 2이하인 경우에 대해 다음을 확인한다.\n",
    "    - 기준행렬에 오른쪽과 아래쪽에 파티션(\"X\")이 없으면 거리두기를 지키지 않음으로 확인\n",
    "\n",
    "## 결과값\n",
    "거리두기를 지키지 않은 행렬은 0을 반환하고, 지킨 행렬은 1을 반환하여 행렬로 표현한다."
   ]
  },
  {
   "cell_type": "code",
   "execution_count": 7,
   "id": "6a8740d8",
   "metadata": {},
   "outputs": [],
   "source": [
    "def solution(places):\n",
    "    cnt = 0                                        # places 행렬의 길이 만큼 반복하기 위한 변수\n",
    "    answer = []                                    # 정답을 넣을 행렬\n",
    "    \n",
    "    # places 행렬 반복 시작, cnt 변수로 제어\n",
    "    while cnt < len(places):                        \n",
    "        position = []                              # 사람이 있는 공간의 위치를 담을 행렬\n",
    "        for i in range(5):                         # 5*5 공간이므로 5번의 이중for문 반복\n",
    "            for j in range(5):\n",
    "                if places[cnt][i][j] == 'P':       # places 행렬에서 P값을 찾으면\n",
    "                    position.append([i,j])         # 그 위치를 position 행렬에 추가\n",
    "        error_num = 0                              # 거리두기 위치가 잘못된 곳의 수를 넣을 변수\n",
    "        distance = 0                               # 사람이 있는 곳 끼리의 거리를 담을 변수\n",
    "        print(position)                            # 사람이 있는 위치 출력\n",
    "        temp_p1 = []                               # 기준이 될 사람의 위치\n",
    "        tmep_p2 = []                               # 비교대상이 될 사람의 위치\n",
    "        \n",
    "        # 사람이 있는 위치의 수 만큼 반복\n",
    "        for i in range(len(position)):\n",
    "            temp_p1 = position[i]                  # 기준이 될 사람의 위치 장소 대입\n",
    "            for j in range(i+1, len(position)):    # 비교대상이 될 사람 위치를 순차적으로\n",
    "                temp_p2 = position[j]              # temp_p2에 대입\n",
    "                                                   # p1과 p2의 맨하탄거리를 구한다\n",
    "                distance = abs(temp_p1[0]-temp_p2[0]) + abs(temp_p1[1]-temp_p2[1])\n",
    "\n",
    "                # 거리가 2 이하인 경우에 3가지 조건으로 거리두기가 지켜지는지 확인한다.\n",
    "                # 1. 기준위치(p1)의 행과 열의 숫자가 모두 4가 아닌 경우 (위쪽과 왼쪽을 제외한 벽에 붙은 자리가 아닌 경우)\n",
    "                # (1) 행의 숫자가 같으면 (열에서 2칸차이 나는 경우)\n",
    "                #     1칸 옆에 (열 이동) 파티션 (\"X\")가 있는지 확인한다. \n",
    "                # (2) 열의 숫자가 같으면 (행에서 2칸차이 나는 경우)\n",
    "                #     1칸 옆에 (행 이동) 파티션 (\"X\")가 있는지 확인한다. \n",
    "                # (3) 위 둘에 해당하지 않으면\n",
    "                #     기준위치에서 1칸 아래쪽 (행+1)과 오른쪽 (열+1) 위치에 파티션 (\"X\")가 있는지 확인한다.\n",
    "                # 2. 기준위치(p1)의 행만 4인 경우 (아래쪽 벽 끝자리)\n",
    "                # 기준위치에서 1칸 오른쪽 (열+1) 위치에 파티션 (\"X\")가 있는지 확인한다.\n",
    "                # 3. 기준위치(p1)의 열만 4인 경우 (오른쪽 벽 끝자리)\n",
    "                # 기준위치에서 1칸 아래쪽 (행+1) 위치에 파티션 (\"X\")가 있는지 확인한다.\n",
    "                # 위 조건을 비교해서 맞지 않는 경우 error_num을 1 증가하여 자리가 잘못 배치됐음을 확인한다.\n",
    "\n",
    "                if distance <= 2:                                              \n",
    "                    if (temp_p1[0] < 4) & (temp_p1[1] < 4):\n",
    "                        if temp_p1[0] == temp_p2[0]:\n",
    "                            if places[cnt][temp_p1[0]][temp_p1[1]+1:temp_p1[1]+2] != \"X\":      \n",
    "                                error_num += 1\n",
    "                                print(\"여기서 에러! {},{}\".format(temp_p1, temp_p2))\n",
    "                        if temp_p1[1] == temp_p2[1]:\n",
    "                            if places[cnt][temp_p1[0]+1][temp_p1[1]:temp_p1[1]+1] != \"X\":\n",
    "                                error_num += 1\n",
    "                                print(\"여기서 에러! {},{}\".format(temp_p1, temp_p2))\n",
    "                        else:    \n",
    "                            if (places[cnt][temp_p1[0]+1][temp_p1[1]:temp_p1[1]+1] != \"X\")\\\n",
    "                            & (places[cnt][temp_p1[0]][temp_p1[1]+1:temp_p1[1]+2] != \"X\"):  \n",
    "                                error_num += 1\n",
    "                                print(\"여기서 에러! {},{}\".format(temp_p1, temp_p2))\n",
    "                    elif (temp_p1[0] == 4) & (temp_p1[1] < 4):        \n",
    "                        if places[cnt][temp_p1[0]][temp_p1[1]+1:temp_p1[1]+2] != \"X\":  \n",
    "                            error_num += 1\n",
    "                            print(\"여기서 에러! {},{}\".format(temp_p1, temp_p2))\n",
    "                    elif (temp_p1[0] < 4) & (temp_p1[1] == 4):\n",
    "                        if places[cnt][temp_p1[0]+1][temp_p1[1]:temp_p1[1]+1] != \"X\":  \n",
    "                            error_num += 1\n",
    "                            print(\"여기서 에러! {},{}\".format(temp_p1, temp_p2))\n",
    "                            \n",
    "        if error_num > 0:            # error_num이 1이상이면\n",
    "            answer.append(0)         # 정답 행렬에 0을 넣어 거리두기를 지키지 않았음을 표기\n",
    "        else:                        # error_num이 0이면\n",
    "            answer.append(1)         # 정답 행렬에 1을 넣어 거리두기를 지켰음을 표기\n",
    "        cnt += 1                     # 다음 places 행렬을 확인\n",
    "\n",
    "    return answer"
   ]
  },
  {
   "cell_type": "code",
   "execution_count": 2,
   "id": "b3411a40",
   "metadata": {},
   "outputs": [
    {
     "name": "stdout",
     "output_type": "stream",
     "text": [
      "[[0, 0], [0, 4], [2, 1], [2, 3], [4, 0], [4, 4]]\n",
      "[[0, 0], [0, 3], [1, 2], [1, 4], [2, 0], [4, 3], [4, 4]]\n",
      "여기서 에러! [0, 0],[2, 0]\n",
      "여기서 에러! [4, 3],[4, 4]\n",
      "[[0, 0], [0, 3], [1, 4], [2, 2], [3, 4], [4, 0], [4, 2]]\n",
      "[]\n",
      "[[0, 0], [0, 2], [0, 4], [1, 1], [1, 3], [2, 0], [2, 2], [2, 4], [3, 1], [3, 3], [4, 0], [4, 2], [4, 4]]\n"
     ]
    },
    {
     "data": {
      "text/plain": [
       "[1, 0, 1, 1, 1]"
      ]
     },
     "execution_count": 2,
     "metadata": {},
     "output_type": "execute_result"
    }
   ],
   "source": [
    "solution([[\"POOOP\", \"OXXOX\", \"OPXPX\", \"OOXOX\", \"POXXP\"], [\"POOPX\", \"OXPXP\", \"PXXXO\", \"OXXXO\", \"OOOPP\"], [\"PXOPX\", \"OXOXP\", \"OXPOX\", \"OXXOP\", \"PXPOX\"], [\"OOOXX\", \"XOOOX\", \"OOOXX\", \"OXOOX\", \"OOOOO\"], [\"PXPXP\", \"XPXPX\", \"PXPXP\", \"XPXPX\", \"PXPXP\"]])"
   ]
  },
  {
   "cell_type": "markdown",
   "id": "70226efa",
   "metadata": {},
   "source": [
    "(11/23 1차 테스트)\n",
    "위 5번의 테스트는 오류가 없었지만 프로그래머스에서는 오류가 나왔다(ㅠㅠㅠㅠㅠㅠ)  \n",
    "\n",
    "생각해보니 옆으로 두 칸 띄어져 있는 경우는 아래에 파티션 유무는 확인하지 않아도 된다.  \n",
    "마찬가지로 아래로 두 칸 띄어져 있는 경우는 오른쪽에 파티션 유무를 확인하지 않아도 된다.  \n",
    "\n",
    "아마 이것때문인듯.... 내일 다시 해보자!"
   ]
  },
  {
   "cell_type": "code",
   "execution_count": 8,
   "id": "b1b158af",
   "metadata": {},
   "outputs": [
    {
     "name": "stdout",
     "output_type": "stream",
     "text": [
      "[[0, 0], [0, 3], [1, 2], [1, 4], [2, 0], [4, 3]]\n",
      "여기서 에러! [0, 0],[2, 0]\n"
     ]
    },
    {
     "data": {
      "text/plain": [
       "[0]"
      ]
     },
     "execution_count": 8,
     "metadata": {},
     "output_type": "execute_result"
    }
   ],
   "source": [
    "solution([[\"PXOPX\", \"OXPXP\", \"PXXXO\", \"OXXXO\", \"OOOPO\"]])"
   ]
  },
  {
   "cell_type": "markdown",
   "id": "7741c666",
   "metadata": {},
   "source": [
    "(11/25 2차 업데이트)  \n",
    "위의 문제는 확인했고 수정했다.  \n",
    "(옆의 두 칸의 위치에 있을 때 아래자리 확인X, 아래 두 칸 위치에 있을 때 옆자리 확인X)"
   ]
  }
 ],
 "metadata": {
  "kernelspec": {
   "display_name": "Python 3",
   "language": "python",
   "name": "python3"
  },
  "language_info": {
   "codemirror_mode": {
    "name": "ipython",
    "version": 3
   },
   "file_extension": ".py",
   "mimetype": "text/x-python",
   "name": "python",
   "nbconvert_exporter": "python",
   "pygments_lexer": "ipython3",
   "version": "3.8.8"
  },
  "toc": {
   "base_numbering": 1,
   "nav_menu": {},
   "number_sections": true,
   "sideBar": true,
   "skip_h1_title": false,
   "title_cell": "Table of Contents",
   "title_sidebar": "Contents",
   "toc_cell": false,
   "toc_position": {},
   "toc_section_display": true,
   "toc_window_display": false
  }
 },
 "nbformat": 4,
 "nbformat_minor": 5
}
